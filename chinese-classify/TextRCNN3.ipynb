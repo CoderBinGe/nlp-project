{
 "cells": [
  {
   "cell_type": "code",
   "execution_count": 1,
   "metadata": {},
   "outputs": [],
   "source": [
    "%config ZMQInteractiveShell.ast_node_interactivity='all'\n",
    "%config IPCompleter.greedy=True\n",
    "import pandas as pd\n",
    "import numpy as np\n",
    "np.set_printoptions(suppress=True) \n",
    "import jieba\n",
    "import random\n",
    "import os\n",
    "from config import *"
   ]
  },
  {
   "cell_type": "markdown",
   "metadata": {},
   "source": [
    "## 加载源数据"
   ]
  },
  {
   "cell_type": "code",
   "execution_count": 2,
   "metadata": {},
   "outputs": [
    {
     "data": {
      "text/plain": [
       "(25482, 2)"
      ]
     },
     "execution_count": 2,
     "metadata": {},
     "output_type": "execute_result"
    },
    {
     "data": {
      "text/html": [
       "<div>\n",
       "<style scoped>\n",
       "    .dataframe tbody tr th:only-of-type {\n",
       "        vertical-align: middle;\n",
       "    }\n",
       "\n",
       "    .dataframe tbody tr th {\n",
       "        vertical-align: top;\n",
       "    }\n",
       "\n",
       "    .dataframe thead th {\n",
       "        text-align: right;\n",
       "    }\n",
       "</style>\n",
       "<table border=\"1\" class=\"dataframe\">\n",
       "  <thead>\n",
       "    <tr style=\"text-align: right;\">\n",
       "      <th></th>\n",
       "      <th>Unnamed: 0</th>\n",
       "      <th>content</th>\n",
       "    </tr>\n",
       "  </thead>\n",
       "  <tbody>\n",
       "    <tr>\n",
       "      <th>0</th>\n",
       "      <td>0</td>\n",
       "      <td>,中新网,1月7日电  恰逢CES 2017拉开大幕，却惊闻“AlphaGo升级版”的M...</td>\n",
       "    </tr>\n",
       "    <tr>\n",
       "      <th>1</th>\n",
       "      <td>1</td>\n",
       "      <td>徐立，商汤科技CEO在谈起本次参展时谈到：“作为一个成立刚刚两年的创业公司，这次参展，一...</td>\n",
       "    </tr>\n",
       "    <tr>\n",
       "      <th>2</th>\n",
       "      <td>2</td>\n",
       "      <td>正如最后挑战Master的古力在落败后发表的观点：“人类与人工智能共同探索围棋世界的大幕...</td>\n",
       "    </tr>\n",
       "    <tr>\n",
       "      <th>3</th>\n",
       "      <td>3</td>\n",
       "      <td>,　SenseFace人脸布控的“黑科技”</td>\n",
       "    </tr>\n",
       "    <tr>\n",
       "      <th>4</th>\n",
       "      <td>4</td>\n",
       "      <td>本届大展最大的看点，无疑是“被誉为2016全美科技第一神股”英伟达的首次CES主题演讲。...</td>\n",
       "    </tr>\n",
       "  </tbody>\n",
       "</table>\n",
       "</div>"
      ],
      "text/plain": [
       "   Unnamed: 0                                            content\n",
       "0           0  　　,中新网,1月7日电  恰逢CES 2017拉开大幕，却惊闻“AlphaGo升级版”的M...\n",
       "1           1  　　徐立，商汤科技CEO在谈起本次参展时谈到：“作为一个成立刚刚两年的创业公司，这次参展，一...\n",
       "2           2  　　正如最后挑战Master的古力在落败后发表的观点：“人类与人工智能共同探索围棋世界的大幕...\n",
       "3           3                             　,　SenseFace人脸布控的“黑科技”\n",
       "4           4  　　本届大展最大的看点，无疑是“被誉为2016全美科技第一神股”英伟达的首次CES主题演讲。..."
      ]
     },
     "execution_count": 2,
     "metadata": {},
     "output_type": "execute_result"
    },
    {
     "data": {
      "text/plain": [
       "Unnamed: 0    False\n",
       "content        True\n",
       "dtype: bool"
      ]
     },
     "execution_count": 2,
     "metadata": {},
     "output_type": "execute_result"
    },
    {
     "data": {
      "text/plain": [
       "(25114, 2)"
      ]
     },
     "execution_count": 2,
     "metadata": {},
     "output_type": "execute_result"
    }
   ],
   "source": [
    "technology = pd.read_csv(technology_news_file, encoding='utf-8')\n",
    "technology.shape\n",
    "technology.head()\n",
    "\n",
    "technology.isnull().any()\n",
    "technology.dropna(inplace=True)\n",
    "technology.shape"
   ]
  },
  {
   "cell_type": "code",
   "execution_count": 3,
   "metadata": {},
   "outputs": [
    {
     "data": {
      "text/plain": [
       "(11959, 2)"
      ]
     },
     "execution_count": 3,
     "metadata": {},
     "output_type": "execute_result"
    },
    {
     "data": {
      "text/html": [
       "<div>\n",
       "<style scoped>\n",
       "    .dataframe tbody tr th:only-of-type {\n",
       "        vertical-align: middle;\n",
       "    }\n",
       "\n",
       "    .dataframe tbody tr th {\n",
       "        vertical-align: top;\n",
       "    }\n",
       "\n",
       "    .dataframe thead th {\n",
       "        text-align: right;\n",
       "    }\n",
       "</style>\n",
       "<table border=\"1\" class=\"dataframe\">\n",
       "  <thead>\n",
       "    <tr style=\"text-align: right;\">\n",
       "      <th></th>\n",
       "      <th>Unnamed: 0</th>\n",
       "      <th>content</th>\n",
       "    </tr>\n",
       "  </thead>\n",
       "  <tbody>\n",
       "    <tr>\n",
       "      <th>0</th>\n",
       "      <td>0</td>\n",
       "      <td>本报济南1月2日电 (记者潘俊强)日前，备受关注的济南“专车案”一审宣判。济南市市中区人...</td>\n",
       "    </tr>\n",
       "    <tr>\n",
       "      <th>1</th>\n",
       "      <td>1</td>\n",
       "      <td>2015年1月，陈超在使用专车软件开“专车”送客时，被济南市客管中心认定为非法运营的“黑...</td>\n",
       "    </tr>\n",
       "    <tr>\n",
       "      <th>2</th>\n",
       "      <td>2</td>\n",
       "      <td>济南市市中区人民法院审理认为，本案中，陈超在与乘客通过网络约车软件取得联系后，使用未取得...</td>\n",
       "    </tr>\n",
       "    <tr>\n",
       "      <th>3</th>\n",
       "      <td>3</td>\n",
       "      <td>同时，虽然被告对未经许可擅自从事出租汽车客运的行为可以依法进行处罚，但原告在本案所涉道路...</td>\n",
       "    </tr>\n",
       "    <tr>\n",
       "      <th>4</th>\n",
       "      <td>4</td>\n",
       "      <td>本案宣判后，原告当庭表示不上诉，被告未当庭表示是否上诉。</td>\n",
       "    </tr>\n",
       "  </tbody>\n",
       "</table>\n",
       "</div>"
      ],
      "text/plain": [
       "   Unnamed: 0                                            content\n",
       "0           0  　　本报济南1月2日电 (记者潘俊强)日前，备受关注的济南“专车案”一审宣判。济南市市中区人...\n",
       "1           1  　　2015年1月，陈超在使用专车软件开“专车”送客时，被济南市客管中心认定为非法运营的“黑...\n",
       "2           2  　　济南市市中区人民法院审理认为，本案中，陈超在与乘客通过网络约车软件取得联系后，使用未取得...\n",
       "3           3  　　同时，虽然被告对未经许可擅自从事出租汽车客运的行为可以依法进行处罚，但原告在本案所涉道路...\n",
       "4           4                     　　本案宣判后，原告当庭表示不上诉，被告未当庭表示是否上诉。"
      ]
     },
     "execution_count": 3,
     "metadata": {},
     "output_type": "execute_result"
    },
    {
     "data": {
      "text/plain": [
       "Unnamed: 0    False\n",
       "content        True\n",
       "dtype: bool"
      ]
     },
     "execution_count": 3,
     "metadata": {},
     "output_type": "execute_result"
    },
    {
     "data": {
      "text/plain": [
       "(11779, 2)"
      ]
     },
     "execution_count": 3,
     "metadata": {},
     "output_type": "execute_result"
    }
   ],
   "source": [
    "car = pd.read_csv(car_news_file, encoding='utf-8')\n",
    "car.shape\n",
    "car.head()\n",
    "\n",
    "car.isnull().any()\n",
    "car.dropna(inplace=True)\n",
    "car.shape"
   ]
  },
  {
   "cell_type": "code",
   "execution_count": 4,
   "metadata": {},
   "outputs": [
    {
     "data": {
      "text/plain": [
       "(40201, 2)"
      ]
     },
     "execution_count": 4,
     "metadata": {},
     "output_type": "execute_result"
    },
    {
     "data": {
      "text/html": [
       "<div>\n",
       "<style scoped>\n",
       "    .dataframe tbody tr th:only-of-type {\n",
       "        vertical-align: middle;\n",
       "    }\n",
       "\n",
       "    .dataframe tbody tr th {\n",
       "        vertical-align: top;\n",
       "    }\n",
       "\n",
       "    .dataframe thead th {\n",
       "        text-align: right;\n",
       "    }\n",
       "</style>\n",
       "<table border=\"1\" class=\"dataframe\">\n",
       "  <thead>\n",
       "    <tr style=\"text-align: right;\">\n",
       "      <th></th>\n",
       "      <th>Unnamed: 0</th>\n",
       "      <th>content</th>\n",
       "    </tr>\n",
       "  </thead>\n",
       "  <tbody>\n",
       "    <tr>\n",
       "      <th>0</th>\n",
       "      <td>0</td>\n",
       "      <td>2016年是综艺井喷的一年，《2016年中国网络视听发展研究报告》数据显示，截至2016...</td>\n",
       "    </tr>\n",
       "    <tr>\n",
       "      <th>1</th>\n",
       "      <td>1</td>\n",
       "      <td>区别</td>\n",
       "    </tr>\n",
       "    <tr>\n",
       "      <th>2</th>\n",
       "      <td>2</td>\n",
       "      <td>平台决定了资源的多寡和资本的投入</td>\n",
       "    </tr>\n",
       "    <tr>\n",
       "      <th>3</th>\n",
       "      <td>3</td>\n",
       "      <td>网络综艺和电视综艺最大的区别在哪？其实是平台。因为平台决定了资源的多寡和资本的投入。所以...</td>\n",
       "    </tr>\n",
       "    <tr>\n",
       "      <th>4</th>\n",
       "      <td>4</td>\n",
       "      <td>网络综艺与电视综艺在播出模式、观众群体以及节目板块等方面也都存在差异。在传播上，电视台比...</td>\n",
       "    </tr>\n",
       "  </tbody>\n",
       "</table>\n",
       "</div>"
      ],
      "text/plain": [
       "   Unnamed: 0                                            content\n",
       "0           0  　　2016年是综艺井喷的一年，《2016年中国网络视听发展研究报告》数据显示，截至2016...\n",
       "1           1                                               　　区别\n",
       "2           2                                 　　平台决定了资源的多寡和资本的投入\n",
       "3           3  　　网络综艺和电视综艺最大的区别在哪？其实是平台。因为平台决定了资源的多寡和资本的投入。所以...\n",
       "4           4  　　网络综艺与电视综艺在播出模式、观众群体以及节目板块等方面也都存在差异。在传播上，电视台比..."
      ]
     },
     "execution_count": 4,
     "metadata": {},
     "output_type": "execute_result"
    },
    {
     "data": {
      "text/plain": [
       "Unnamed: 0    False\n",
       "content        True\n",
       "dtype: bool"
      ]
     },
     "execution_count": 4,
     "metadata": {},
     "output_type": "execute_result"
    },
    {
     "data": {
      "text/plain": [
       "(39353, 2)"
      ]
     },
     "execution_count": 4,
     "metadata": {},
     "output_type": "execute_result"
    }
   ],
   "source": [
    "entertainment = pd.read_csv(entertainment_news_file, encoding='utf-8')\n",
    "entertainment.shape\n",
    "entertainment.head()\n",
    "\n",
    "entertainment.isnull().any()\n",
    "entertainment.dropna(inplace=True)\n",
    "entertainment.shape"
   ]
  },
  {
   "cell_type": "code",
   "execution_count": 5,
   "metadata": {},
   "outputs": [
    {
     "data": {
      "text/plain": [
       "(17225, 2)"
      ]
     },
     "execution_count": 5,
     "metadata": {},
     "output_type": "execute_result"
    },
    {
     "data": {
      "text/html": [
       "<div>\n",
       "<style scoped>\n",
       "    .dataframe tbody tr th:only-of-type {\n",
       "        vertical-align: middle;\n",
       "    }\n",
       "\n",
       "    .dataframe tbody tr th {\n",
       "        vertical-align: top;\n",
       "    }\n",
       "\n",
       "    .dataframe thead th {\n",
       "        text-align: right;\n",
       "    }\n",
       "</style>\n",
       "<table border=\"1\" class=\"dataframe\">\n",
       "  <thead>\n",
       "    <tr style=\"text-align: right;\">\n",
       "      <th></th>\n",
       "      <th>Unnamed: 0</th>\n",
       "      <th>content</th>\n",
       "    </tr>\n",
       "  </thead>\n",
       "  <tbody>\n",
       "    <tr>\n",
       "      <th>0</th>\n",
       "      <td>0</td>\n",
       "      <td>新华社北京1月8日电(记者董瑞丰)军民融合发展已经上升为国家战略，但现阶段国防工业企业军...</td>\n",
       "    </tr>\n",
       "    <tr>\n",
       "      <th>1</th>\n",
       "      <td>1</td>\n",
       "      <td>中国国防工业企业军民融合产业联盟8日在北京宣布成立。刘东奎说，适时成立联盟，坚持“军民融...</td>\n",
       "    </tr>\n",
       "    <tr>\n",
       "      <th>2</th>\n",
       "      <td>2</td>\n",
       "      <td>数据显示，我国目前有十几万家民营高新技术企业，很多高新技术企业在新能源、新材料、电子信息...</td>\n",
       "    </tr>\n",
       "    <tr>\n",
       "      <th>3</th>\n",
       "      <td>3</td>\n",
       "      <td>对于现阶段军民融合面临的问题，刘东奎列举：从企业外部来看，军民融合管理体制不够顺畅，军民...</td>\n",
       "    </tr>\n",
       "    <tr>\n",
       "      <th>4</th>\n",
       "      <td>4</td>\n",
       "      <td>“国防科技工业是军民融合的天然载体和核心领域。”刘东奎说，未来要着力搭建军民协同创新展示...</td>\n",
       "    </tr>\n",
       "  </tbody>\n",
       "</table>\n",
       "</div>"
      ],
      "text/plain": [
       "   Unnamed: 0                                            content\n",
       "0           0  　　新华社北京1月8日电(记者董瑞丰)军民融合发展已经上升为国家战略，但现阶段国防工业企业军...\n",
       "1           1  　　中国国防工业企业军民融合产业联盟8日在北京宣布成立。刘东奎说，适时成立联盟，坚持“军民融...\n",
       "2           2  　　数据显示，我国目前有十几万家民营高新技术企业，很多高新技术企业在新能源、新材料、电子信息...\n",
       "3           3  　　对于现阶段军民融合面临的问题，刘东奎列举：从企业外部来看，军民融合管理体制不够顺畅，军民...\n",
       "4           4  　　“国防科技工业是军民融合的天然载体和核心领域。”刘东奎说，未来要着力搭建军民协同创新展示..."
      ]
     },
     "execution_count": 5,
     "metadata": {},
     "output_type": "execute_result"
    },
    {
     "data": {
      "text/plain": [
       "Unnamed: 0    False\n",
       "content        True\n",
       "dtype: bool"
      ]
     },
     "execution_count": 5,
     "metadata": {},
     "output_type": "execute_result"
    },
    {
     "data": {
      "text/plain": [
       "(16816, 2)"
      ]
     },
     "execution_count": 5,
     "metadata": {},
     "output_type": "execute_result"
    }
   ],
   "source": [
    "military = pd.read_csv(military_news_file, encoding='utf-8')\n",
    "military.shape\n",
    "military.head()\n",
    "\n",
    "military.isnull().any()\n",
    "military.dropna(inplace=True)\n",
    "military.shape"
   ]
  },
  {
   "cell_type": "code",
   "execution_count": 6,
   "metadata": {},
   "outputs": [
    {
     "data": {
      "text/plain": [
       "(33046, 2)"
      ]
     },
     "execution_count": 6,
     "metadata": {},
     "output_type": "execute_result"
    },
    {
     "data": {
      "text/html": [
       "<div>\n",
       "<style scoped>\n",
       "    .dataframe tbody tr th:only-of-type {\n",
       "        vertical-align: middle;\n",
       "    }\n",
       "\n",
       "    .dataframe tbody tr th {\n",
       "        vertical-align: top;\n",
       "    }\n",
       "\n",
       "    .dataframe thead th {\n",
       "        text-align: right;\n",
       "    }\n",
       "</style>\n",
       "<table border=\"1\" class=\"dataframe\">\n",
       "  <thead>\n",
       "    <tr style=\"text-align: right;\">\n",
       "      <th></th>\n",
       "      <th>Unnamed: 0</th>\n",
       "      <th>content</th>\n",
       "    </tr>\n",
       "  </thead>\n",
       "  <tbody>\n",
       "    <tr>\n",
       "      <th>0</th>\n",
       "      <td>0</td>\n",
       "      <td>,中新网,深圳1月2日电（记者 郑小红）2017年深圳网球公开赛单打正赛1日在深圳市龙岗...</td>\n",
       "    </tr>\n",
       "    <tr>\n",
       "      <th>1</th>\n",
       "      <td>1</td>\n",
       "      <td>1日的首场比赛中，世界排名38位的尼库莱斯库面临了来自中国球员张恺琳的巨大挑战。开局不利...</td>\n",
       "    </tr>\n",
       "    <tr>\n",
       "      <th>2</th>\n",
       "      <td>2</td>\n",
       "      <td>参赛球员中排名最高的中国球员王蔷当日表现神勇，用时74分钟便以6-2，6-3横扫俄罗斯球...</td>\n",
       "    </tr>\n",
       "    <tr>\n",
       "      <th>3</th>\n",
       "      <td>3</td>\n",
       "      <td>王蔷今年24岁，来自天津，因其纯真的性格颇受欢迎。本场比赛她充分利用球场调动对手的跑动，...</td>\n",
       "    </tr>\n",
       "    <tr>\n",
       "      <th>4</th>\n",
       "      <td>4</td>\n",
       "      <td>四名从资格赛中突围成功的球员也已产生，她们是突尼斯球员加布尔、中华台北球员张凯贞、塞尔维...</td>\n",
       "    </tr>\n",
       "  </tbody>\n",
       "</table>\n",
       "</div>"
      ],
      "text/plain": [
       "   Unnamed: 0                                            content\n",
       "0           0  　　,中新网,深圳1月2日电（记者 郑小红）2017年深圳网球公开赛单打正赛1日在深圳市龙岗...\n",
       "1           1  　　1日的首场比赛中，世界排名38位的尼库莱斯库面临了来自中国球员张恺琳的巨大挑战。开局不利...\n",
       "2           2  　　参赛球员中排名最高的中国球员王蔷当日表现神勇，用时74分钟便以6-2，6-3横扫俄罗斯球...\n",
       "3           3  　　王蔷今年24岁，来自天津，因其纯真的性格颇受欢迎。本场比赛她充分利用球场调动对手的跑动，...\n",
       "4           4  　　四名从资格赛中突围成功的球员也已产生，她们是突尼斯球员加布尔、中华台北球员张凯贞、塞尔维..."
      ]
     },
     "execution_count": 6,
     "metadata": {},
     "output_type": "execute_result"
    },
    {
     "data": {
      "text/plain": [
       "Unnamed: 0    False\n",
       "content        True\n",
       "dtype: bool"
      ]
     },
     "execution_count": 6,
     "metadata": {},
     "output_type": "execute_result"
    },
    {
     "data": {
      "text/plain": [
       "(32774, 2)"
      ]
     },
     "execution_count": 6,
     "metadata": {},
     "output_type": "execute_result"
    }
   ],
   "source": [
    "sports = pd.read_csv(sports_news_file, encoding='utf-8')\n",
    "sports.shape\n",
    "sports.head()\n",
    "\n",
    "sports.isnull().any()\n",
    "sports.dropna(inplace=True)\n",
    "sports.shape"
   ]
  },
  {
   "cell_type": "markdown",
   "metadata": {},
   "source": [
    "## 分词去停用词"
   ]
  },
  {
   "cell_type": "code",
   "execution_count": 7,
   "metadata": {},
   "outputs": [],
   "source": [
    "# 加载停用词\n",
    "stopwords = pd.read_csv(stopwords_file, index_col=False, quoting=3,sep=\"\\t\", names=['stopword'], encoding='utf-8')\n",
    "stopwords = stopwords['stopword'].values\n",
    "\n",
    "# 文本预处理\n",
    "def preprocess_content(content, category):\n",
    "    out_f = open(processed_data_path + category + \".txt\", 'w', encoding=\"utf-8\") # 新建文件\n",
    "    for line in content:\n",
    "        try:\n",
    "            segs=jieba.lcut(line)\n",
    "            segs = list(filter(lambda x:len(x) > 1, segs)) #没有解析出来的内容过滤掉\n",
    "            segs = list(filter(lambda x:x not in stopwords, segs)) #把停用词过滤掉\n",
    "            out_f.write(\" \".join(segs)+\"\\n\")\n",
    "        except Exception as e:\n",
    "            print(line)\n",
    "            continue\n",
    "    out_f.close()"
   ]
  },
  {
   "cell_type": "code",
   "execution_count": 8,
   "metadata": {},
   "outputs": [
    {
     "data": {
      "text/plain": [
       "['\\u3000\\u3000全新途观L搭载4MOTION智能全时四驱，采用Haldex第五代中央差速器，实现全时四驱的卓越驾控，帮助其面对崎岖道路亦能如履平地。不仅如此，全新途观L还提供7种驾驶模式选择，可在4种公路模式和3种越野模式之间随心切换，轻松胜任各种路况。前者提供经济、普通、运动、自定义四种不同的驾驶模式可调，令驾驶者尽享铺装路面的驾驶乐趣；后者分为雪地、越野、越野自定义三种模式。雪地四驱模式下扭矩输出更为温柔、平稳，冰雪路面起步更加顺利；越野四驱模式时，EDS功能、下坡辅助、上坡辅助和驻车辅助功能均可帮助驾驶者控制行进轨迹，严防车辆打滑失控；而越野四驱自定义模式可根据个人喜好来设置专属自己的越野模式。',\n",
       " '\\u3000\\u3000除此以外，全新途观L的悬架结构在经过重新设计后，塑造出运动性底盘和舒适性底盘融于一体的经典德系风格，更加适合国内复杂路况及用户使用习惯，实现灵动舒适的驾驭体验。EPS电子助力转向系统的运用，确保驾驶员始终获得清晰路感，也使前行之路更为畅快。同时，全新途观L拥有多达52处静音技术处理，以高标准构建极致静谧空间，让出行品质加倍提升。']"
      ]
     },
     "execution_count": 8,
     "metadata": {},
     "output_type": "execute_result"
    }
   ],
   "source": [
    "technology_content = technology.content.values.tolist()[1000:6000]\n",
    "car_content = car.content.values.tolist()[1000:6000]\n",
    "entertainment_content = entertainment.content.values.tolist()[:5000]\n",
    "military_content = military.content.values.tolist()[:5000]\n",
    "sports_content = sports.content.values.tolist()[:5000]\n",
    "car_content[:2]"
   ]
  },
  {
   "cell_type": "code",
   "execution_count": 9,
   "metadata": {},
   "outputs": [],
   "source": [
    "if not os.path.exists(os.path.join(processed_data_path, 'technology.txt') and\n",
    "                          os.path.join(processed_data_path, 'car.txt') and\n",
    "                          os.path.join(processed_data_path, 'entertainment.txt') and\n",
    "                          os.path.join(processed_data_path, 'military.txt') and\n",
    "                          os.path.join(processed_data_path, 'sports.txt')):\n",
    "    \n",
    "    print('分词去停用词...')\n",
    "    preprocess_content(technology_content, 'technology')\n",
    "    preprocess_content(car_content,'car')\n",
    "    preprocess_content(entertainment_content, 'entertainment')\n",
    "    preprocess_content(military_content, 'military')\n",
    "    preprocess_content(sports_content, 'sports')\n",
    "    print('文本预处理已完成！')"
   ]
  },
  {
   "cell_type": "markdown",
   "metadata": {},
   "source": [
    "## 加载预处理过后的文本数据"
   ]
  },
  {
   "cell_type": "code",
   "execution_count": 10,
   "metadata": {},
   "outputs": [
    {
     "name": "stdout",
     "output_type": "stream",
     "text": [
      "[['全新', '途观', '搭载', '4MOTION', '智能', '全时', '四驱', '采用', 'Haldex', '第五代', '中央', '差速器', '全时', '四驱', '卓越', '驾控', '面对', '崎岖', '道路', '如履平地', '不仅如此', '全新', '途观', '提供', '驾驶', '模式', '选择', '公路', '模式', '越野', '模式', '之间', '随心', '切换', '轻松', '胜任', '路况', '提供', '经济', '运动', '自定义', '四种', '驾驶', '模式', '可调', '驾驶者', '尽享', '路面', '驾驶', '乐趣', '分为', '雪地', '越野', '越野', '自定义', '三种', '模式', '雪地', '四驱', '模式', '扭矩', '输出', '温柔', '平稳', '冰雪', '路面', '起步', '顺利', '越野', '四驱', '模式', 'EDS', '功能', '下坡', '辅助', '上坡', '辅助', '驻车', '辅助', '功能', '驾驶者', '控制', '行进', '轨迹', '严防', '车辆', '打滑', '失控', '越野', '四驱', '自定义', '模式', '喜好', '设置', '专属', '越野', '模式'], ['全新', '途观', '悬架', '结构', '设计', '塑造出', '运动性', '底盘', '舒适性', '底盘', '融于', '一体', '经典', '德系', '风格', '适合', '国内', '路况', '用户', '习惯', '灵动', '舒适', '驾驭', '体验', 'EPS', '电子', '助力', '转向', '系统', '确保', '驾驶员', '始终', '清晰', '路感', '前行', '畅快', '全新', '途观', '拥有', '多达', '静音', '技术', '高标准', '构建', '极致', '静谧', '空间', '出行', '品质', '加倍', '提升']]\n",
      "['car', 'car']\n"
     ]
    }
   ],
   "source": [
    "# 读取多个文件，返回内容和标签\n",
    "def read_files(dirname):\n",
    "    contents = []\n",
    "    labels = []\n",
    "    files = [f for f in os.listdir(dirname) if f.endswith(\".txt\")]\n",
    "    # print(files)  # ['car.txt', 'entertainment.txt', 'military.txt', 'sports.txt', 'technology.txt']\n",
    "    for filename in files:\n",
    "        # print(os.path.join(dirname, filename)) # ./processed_data/car.txt\n",
    "        content, label = read_single_file(os.path.join(dirname, filename))\n",
    "        contents.extend(content)\n",
    "        labels.extend([label] * len(content))\n",
    "    return contents, labels\n",
    "\n",
    "\n",
    "# 读取单个txt文件\n",
    "def read_single_file(filename):\n",
    "    contents = []\n",
    "    # label = filename.split('\\\\')[-1].split('.')[0]\n",
    "    label = filename.split('/')[-1].split('.')[0]\n",
    "    with open(filename, mode='r', encoding='utf-8') as f:\n",
    "        for line in f:\n",
    "            try:\n",
    "                content = line.strip().split(' ')\n",
    "                if content:\n",
    "                    contents.append(content)\n",
    "            except:\n",
    "                pass\n",
    "    return contents, label\n",
    "\n",
    "\n",
    "contents, labels = read_files(processed_data_path)\n",
    "print(contents[:2])\n",
    "print(labels[:2])"
   ]
  },
  {
   "cell_type": "code",
   "execution_count": 11,
   "metadata": {},
   "outputs": [
    {
     "name": "stdout",
     "output_type": "stream",
     "text": [
      "[(['暂停', '加油机'], 'car'), (['备受瞩目', '虚拟现实', '俨然', 'CES', '标配', 'VR', '头显', '更是', '随处可见', '要说', 'CES', 'VR', '头显', '共同点', '支持', '位置', '追踪', '必占', '一席', 'inside', '追踪', '方案', '业界', '热衷', '方向', '英特尔', '高通', '联想', '国内外', '巨头', '纷纷', '推出', 'inside', '相关', '头显', '解决方案'], 'technology')]\n"
     ]
    }
   ],
   "source": [
    "data = list(zip(contents, labels))\n",
    "# 乱序\n",
    "random.shuffle(data)\n",
    "print(data[:2])"
   ]
  },
  {
   "cell_type": "code",
   "execution_count": 12,
   "metadata": {},
   "outputs": [
    {
     "name": "stdout",
     "output_type": "stream",
     "text": [
      "(['暂停', '加油机'], ['备受瞩目', '虚拟现实', '俨然', 'CES', '标配', 'VR', '头显', '更是', '随处可见', '要说', 'CES', 'VR', '头显', '共同点', '支持', '位置', '追踪', '必占', '一席', 'inside', '追踪', '方案', '业界', '热衷', '方向', '英特尔', '高通', '联想', '国内外', '巨头', '纷纷', '推出', 'inside', '相关', '头显', '解决方案'])\n",
      "('car', 'technology')\n"
     ]
    }
   ],
   "source": [
    "contents, labels = zip(*data)\n",
    "print(contents[:2])\n",
    "print(labels[:2])"
   ]
  },
  {
   "cell_type": "markdown",
   "metadata": {},
   "source": [
    "## 构建词典"
   ]
  },
  {
   "cell_type": "code",
   "execution_count": 13,
   "metadata": {},
   "outputs": [],
   "source": [
    "from collections import Counter\n",
    "\n",
    "def build_vocab(dirname, min_count = 3):\n",
    "    contents, _ = read_files(dirname)\n",
    "\n",
    "    words = []\n",
    "    for word in contents:\n",
    "        words.extend(word)\n",
    "        \n",
    "    counter = Counter(words)\n",
    "    counter_list = counter.most_common()  # 列出前n个词 [('中国', 4375), ('汽车', 2683),...]\n",
    "    # 过滤掉低频词\n",
    "    counter_list = list(filter(lambda x: x[1] > min_count, counter_list))\n",
    "    words, _ = list(zip(*counter_list))\n",
    "    word2index = dict(zip(words, range(len(words))))\n",
    "    index2word = dict([(v, k) for k, v in word2index.items()])\n",
    "    return word2index, index2word\n",
    "\n",
    "word2index, index2word = build_vocab(processed_data_path)"
   ]
  },
  {
   "cell_type": "markdown",
   "metadata": {},
   "source": [
    "## 构建训练数据集"
   ]
  },
  {
   "cell_type": "code",
   "execution_count": 14,
   "metadata": {},
   "outputs": [
    {
     "data": {
      "text/plain": [
       "{'car': 0, 'entertainment': 1, 'military': 2, 'sports': 3, 'technology': 4}"
      ]
     },
     "execution_count": 14,
     "metadata": {},
     "output_type": "execute_result"
    },
    {
     "data": {
      "text/plain": [
       "[0, 4, 0, 3, 3]"
      ]
     },
     "execution_count": 14,
     "metadata": {},
     "output_type": "execute_result"
    }
   ],
   "source": [
    "categories = ['car', 'entertainment', 'military', 'sports', 'technology']\n",
    "cate2idx = dict(zip(categories, range(len(categories))))\n",
    "cate2idx\n",
    "\n",
    "def encode_label(labels, cate2idx):\n",
    "    return [(cate2idx[label] if label in cate2idx else 0) for label in labels]\n",
    "\n",
    "y = encode_label(labels, cate2idx)\n",
    "y[:5]"
   ]
  },
  {
   "cell_type": "code",
   "execution_count": 15,
   "metadata": {},
   "outputs": [
    {
     "data": {
      "text/plain": [
       "(25072, 100)"
      ]
     },
     "execution_count": 15,
     "metadata": {},
     "output_type": "execute_result"
    },
    {
     "data": {
      "text/plain": [
       "(25072,)"
      ]
     },
     "execution_count": 15,
     "metadata": {},
     "output_type": "execute_result"
    }
   ],
   "source": [
    "def build_dataset(x, y, word2index, maxlen=100):\n",
    "    dataset = []\n",
    "    new_labels = []\n",
    "    arr = np.arange(len(x)) # arange函数用于创建等差数组\n",
    "    for i in range(arr.shape[0]):\n",
    "        new_labels.append(y[i])\n",
    "\n",
    "        new_line = []\n",
    "        for word in x[i]:\n",
    "            if word in word2index:\n",
    "                index = word2index[word]\n",
    "            else:\n",
    "                index = 0  # <UNK>\n",
    "            new_line.append(index)\n",
    "            \n",
    "\n",
    "        # padding\n",
    "        pad_num = maxlen - len(new_line)\n",
    "        while pad_num > 0:\n",
    "            new_line.append(0)  # <PAD>\n",
    "            pad_num -= 1\n",
    "\n",
    "        dataset.append(new_line[:maxlen])\n",
    "\n",
    "    return np.asarray(dataset), np.asarray(new_labels)\n",
    "\n",
    "\n",
    "x,y = build_dataset(contents, y, word2index)\n",
    "x.shape\n",
    "y.shape"
   ]
  },
  {
   "cell_type": "code",
   "execution_count": 16,
   "metadata": {},
   "outputs": [
    {
     "data": {
      "text/plain": [
       "array([[ 2882,  9427,     0,     0,     0,     0,     0,     0,     0,\n",
       "            0,     0,     0,     0,     0,     0,     0,     0,     0,\n",
       "            0,     0,     0,     0,     0,     0,     0,     0,     0,\n",
       "            0,     0,     0,     0,     0,     0,     0,     0,     0,\n",
       "            0,     0,     0,     0,     0,     0,     0,     0,     0,\n",
       "            0,     0,     0,     0,     0,     0,     0,     0,     0,\n",
       "            0,     0,     0,     0,     0,     0,     0,     0,     0,\n",
       "            0,     0,     0,     0,     0,     0,     0,     0,     0,\n",
       "            0,     0,     0,     0,     0,     0,     0,     0,     0,\n",
       "            0,     0,     0,     0,     0,     0,     0,     0,     0,\n",
       "            0,     0,     0,     0,     0,     0,     0,     0,     0,\n",
       "            0],\n",
       "       [ 8922,  2791,  6907,   638,  1903,   290, 10177,   175,  8222,\n",
       "         5700,   638,   290, 10177, 15973,   137,   467,  4250,     0,\n",
       "        18560,  8169,  4250,   443,  1203, 15910,   394,  2349,  3330,\n",
       "         2054,  1751,   794,   588,    78,  8169,    60, 10177,   704,\n",
       "            0,     0,     0,     0,     0,     0,     0,     0,     0,\n",
       "            0,     0,     0,     0,     0,     0,     0,     0,     0,\n",
       "            0,     0,     0,     0,     0,     0,     0,     0,     0,\n",
       "            0,     0,     0,     0,     0,     0,     0,     0,     0,\n",
       "            0,     0,     0,     0,     0,     0,     0,     0,     0,\n",
       "            0,     0,     0,     0,     0,     0,     0,     0,     0,\n",
       "            0,     0,     0,     0,     0,     0,     0,     0,     0,\n",
       "            0]])"
      ]
     },
     "execution_count": 16,
     "metadata": {},
     "output_type": "execute_result"
    },
    {
     "data": {
      "text/plain": [
       "array([0, 4])"
      ]
     },
     "execution_count": 16,
     "metadata": {},
     "output_type": "execute_result"
    }
   ],
   "source": [
    "x[:2]\n",
    "y[:2]"
   ]
  },
  {
   "cell_type": "markdown",
   "metadata": {},
   "source": [
    "## 模型构建"
   ]
  },
  {
   "cell_type": "code",
   "execution_count": 17,
   "metadata": {},
   "outputs": [],
   "source": [
    "from tensorflow.keras import Input, Model\n",
    "from tensorflow.keras import backend as K\n",
    "from tensorflow.keras.layers import Embedding, Dense, SimpleRNN, Lambda, Concatenate, Conv1D, GlobalMaxPooling1D\n",
    "\n",
    "\n",
    "class RCNN(object):\n",
    "    def __init__(self, maxlen, max_features, embedding_dims, class_num=5, last_activation='softmax'):\n",
    "        self.maxlen = maxlen\n",
    "        self.max_features = max_features\n",
    "        self.embedding_dims = embedding_dims\n",
    "        self.class_num = class_num\n",
    "        self.last_activation = last_activation\n",
    "\n",
    "    def get_model(self):\n",
    "        input_current = Input((self.maxlen,))\n",
    "        input_left = Input((self.maxlen,))\n",
    "        input_right = Input((self.maxlen,))\n",
    "\n",
    "        embedder = Embedding(self.max_features, self.embedding_dims, input_length=self.maxlen)\n",
    "        embedding_current = embedder(input_current)\n",
    "        embedding_left = embedder(input_left)\n",
    "        embedding_right = embedder(input_right)\n",
    "\n",
    "        x_left = SimpleRNN(128, return_sequences=True)(embedding_left)\n",
    "        x_right = SimpleRNN(128, return_sequences=True, go_backwards=True)(embedding_right)\n",
    "        x_right = Lambda(lambda x: K.reverse(x, axes=1))(x_right)\n",
    "        x = Concatenate(axis=2)([x_left, embedding_current, x_right])\n",
    "\n",
    "        x = Conv1D(64, kernel_size=1, activation='tanh')(x)\n",
    "        x = GlobalMaxPooling1D()(x)\n",
    "\n",
    "        output = Dense(self.class_num, activation=self.last_activation)(x)\n",
    "        model = Model(inputs=[input_current, input_left, input_right], outputs=output)\n",
    "        return model"
   ]
  },
  {
   "cell_type": "markdown",
   "metadata": {},
   "source": [
    "## 模型训练"
   ]
  },
  {
   "cell_type": "code",
   "execution_count": 18,
   "metadata": {},
   "outputs": [
    {
     "name": "stdout",
     "output_type": "stream",
     "text": [
      "为模型准备输入数据...\n",
      "x_train_current 维度: (16713, 100)\n",
      "x_train_left 维度: (16713, 100)\n",
      "x_train_right 维度: (16713, 100)\n",
      "x_test_current 维度: (8359, 100)\n",
      "x_test_left 维度: (8359, 100)\n",
      "x_test_right 维度: (8359, 100)\n",
      "构建模型...\n",
      "训练...\n",
      "Train on 16713 samples, validate on 8359 samples\n",
      "16640/16713 [============================>.] - ETA: 0s - loss: 1.5279 - accuracy: 0.2942\n",
      "Epoch 00001: saving model to ./rcnn_model.h5\n",
      "16713/16713 [==============================] - 55s 3ms/sample - loss: 1.5281 - accuracy: 0.2945 - val_loss: 1.4880 - val_accuracy: 0.3663\n",
      "为模型准备输入数据...\n",
      "x_train_current 维度: (16714, 100)\n",
      "x_train_left 维度: (16714, 100)\n",
      "x_train_right 维度: (16714, 100)\n",
      "x_test_current 维度: (8358, 100)\n",
      "x_test_left 维度: (8358, 100)\n",
      "x_test_right 维度: (8358, 100)\n",
      "构建模型...\n",
      "训练...\n",
      "Train on 16714 samples, validate on 8358 samples\n",
      "16640/16714 [============================>.] - ETA: 0s - loss: 1.4495 - accuracy: 0.3269\n",
      "Epoch 00001: saving model to ./rcnn_model.h5\n",
      "16714/16714 [==============================] - 59s 4ms/sample - loss: 1.4492 - accuracy: 0.3275 - val_loss: 1.3004 - val_accuracy: 0.4493\n",
      "为模型准备输入数据...\n",
      "x_train_current 维度: (16717, 100)\n",
      "x_train_left 维度: (16717, 100)\n",
      "x_train_right 维度: (16717, 100)\n",
      "x_test_current 维度: (8355, 100)\n",
      "x_test_left 维度: (8355, 100)\n",
      "x_test_right 维度: (8355, 100)\n",
      "构建模型...\n",
      "训练...\n",
      "Train on 16717 samples, validate on 8355 samples\n",
      "16640/16717 [============================>.] - ETA: 0s - loss: 1.5661 - accuracy: 0.2859\n",
      "Epoch 00001: saving model to ./rcnn_model.h5\n",
      "16717/16717 [==============================] - 88s 5ms/sample - loss: 1.5654 - accuracy: 0.2871 - val_loss: 1.3984 - val_accuracy: 0.4567\n"
     ]
    }
   ],
   "source": [
    "from tensorflow.keras.utils import to_categorical\n",
    "from sklearn.model_selection import StratifiedKFold\n",
    "from tensorflow.keras.callbacks import EarlyStopping, ModelCheckpoint\n",
    "\n",
    "\n",
    "for train_index, test_index in StratifiedKFold(n_splits=3, random_state=2019).split(x, y):\n",
    "    x_train, x_test = x[train_index], x[test_index]\n",
    "    y_train, y_test = y[train_index], y[test_index]\n",
    "    \n",
    "    print('为模型准备输入数据...')\n",
    "    x_train_current = x_train\n",
    "    x_train_left = np.hstack([np.expand_dims(x_train[:, 0], axis=1), x_train[:, 0:-1]])\n",
    "    x_train_right = np.hstack([x_train[:, 1:], np.expand_dims(x_train[:, -1], axis=1)])\n",
    "    print('x_train_current 维度:', x_train_current.shape)\n",
    "    print('x_train_left 维度:', x_train_left.shape)\n",
    "    print('x_train_right 维度:', x_train_right.shape)\n",
    "    \n",
    "    x_test_current = x_test\n",
    "    x_test_left = np.hstack([np.expand_dims(x_test[:, 0], axis=1), x_test[:, 0:-1]])\n",
    "    x_test_right = np.hstack([x_test[:, 1:], np.expand_dims(x_test[:, -1], axis=1)])\n",
    "    print('x_test_current 维度:', x_test_current.shape)\n",
    "    print('x_test_left 维度:', x_test_left.shape)\n",
    "    print('x_test_right 维度:', x_test_right.shape)\n",
    "    \n",
    "    # 将整型标签转为onehot\n",
    "    y_train = to_categorical(y_train)\n",
    "    y_test = to_categorical(y_test)\n",
    "          \n",
    "    print('构建模型...')\n",
    "    max_features = len(word2index) + 1\n",
    "    model = RCNN(maxlen, max_features, embedding_dims).get_model()\n",
    "    model.compile('adam', 'categorical_crossentropy', metrics=['accuracy'])\n",
    "\n",
    "    print('训练...')\n",
    "    my_callbacks = [\n",
    "        ModelCheckpoint('./rcnn_model.h5', verbose=1),\n",
    "        EarlyStopping(monitor='val_accuracy', patience=2, mode='max')\n",
    "    ]\n",
    "\n",
    "    # fit拟合数据\n",
    "    history = model.fit([x_train_current, x_train_left, x_train_right], y_train,\n",
    "              batch_size=batch_size,\n",
    "              epochs=epochs,\n",
    "              callbacks=my_callbacks,\n",
    "              validation_data=([x_test_current, x_test_left, x_test_right], y_test))"
   ]
  },
  {
   "cell_type": "markdown",
   "metadata": {},
   "source": [
    "## 模型预测"
   ]
  },
  {
   "cell_type": "code",
   "execution_count": 20,
   "metadata": {},
   "outputs": [
    {
     "data": {
      "text/plain": [
       "array([[0.17690817, 0.18487675, 0.20775864, 0.23029561, 0.20016076],\n",
       "       [0.15817654, 0.16677041, 0.2262304 , 0.28463072, 0.16419196],\n",
       "       [0.13460504, 0.17359997, 0.25045228, 0.3032397 , 0.13810301],\n",
       "       ...,\n",
       "       [0.16007912, 0.19630821, 0.21588951, 0.25138694, 0.17633626],\n",
       "       [0.1775948 , 0.19428393, 0.21069928, 0.25095233, 0.1664697 ],\n",
       "       [0.41847914, 0.25847763, 0.07134484, 0.04209331, 0.20960507]],\n",
       "      dtype=float32)"
      ]
     },
     "execution_count": 20,
     "metadata": {},
     "output_type": "execute_result"
    }
   ],
   "source": [
    "result = model.predict([x_test_current, x_test_left, x_test_right])\n",
    "result"
   ]
  }
 ],
 "metadata": {
  "kernelspec": {
   "display_name": "Python 3",
   "language": "python",
   "name": "python3"
  },
  "language_info": {
   "codemirror_mode": {
    "name": "ipython",
    "version": 3
   },
   "file_extension": ".py",
   "mimetype": "text/x-python",
   "name": "python",
   "nbconvert_exporter": "python",
   "pygments_lexer": "ipython3",
   "version": "3.6.6"
  },
  "toc": {
   "base_numbering": 1,
   "nav_menu": {},
   "number_sections": true,
   "sideBar": true,
   "skip_h1_title": false,
   "title_cell": "Table of Contents",
   "title_sidebar": "Contents",
   "toc_cell": false,
   "toc_position": {},
   "toc_section_display": true,
   "toc_window_display": true
  }
 },
 "nbformat": 4,
 "nbformat_minor": 2
}
